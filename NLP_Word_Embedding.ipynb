{
  "nbformat": 4,
  "nbformat_minor": 0,
  "metadata": {
    "colab": {
      "provenance": []
    },
    "kernelspec": {
      "name": "python3",
      "display_name": "Python 3"
    },
    "language_info": {
      "name": "python"
    }
  },
  "cells": [
    {
      "cell_type": "markdown",
      "source": [
        "# Word Embedding"
      ],
      "metadata": {
        "id": "B0nQ3fZLhCnH"
      }
    },
    {
      "cell_type": "code",
      "execution_count": null,
      "metadata": {
        "colab": {
          "base_uri": "https://localhost:8080/"
        },
        "id": "EDv-yTPAgsMi",
        "outputId": "e825dbfd-9950-46b1-864f-28bba335d9e9"
      },
      "outputs": [
        {
          "output_type": "stream",
          "name": "stderr",
          "text": [
            "/usr/local/lib/python3.8/dist-packages/torch/cuda/__init__.py:497: UserWarning: Can't initialize NVML\n",
            "  warnings.warn(\"Can't initialize NVML\")\n"
          ]
        }
      ],
      "source": [
        "import spacy.cli"
      ]
    },
    {
      "cell_type": "code",
      "source": [
        "spacy.cli.download(\"en_core_web_lg\") \n",
        "nlp = spacy.load(\"en_core_web_lg\")"
      ],
      "metadata": {
        "colab": {
          "base_uri": "https://localhost:8080/"
        },
        "id": "q2txfLLshKu-",
        "outputId": "df1e6aad-3a16-41ea-c41e-1b5cbdc4fedc"
      },
      "execution_count": null,
      "outputs": [
        {
          "output_type": "stream",
          "name": "stdout",
          "text": [
            "\u001b[38;5;2m✔ Download and installation successful\u001b[0m\n",
            "You can now load the package via spacy.load('en_core_web_lg')\n"
          ]
        }
      ]
    },
    {
      "cell_type": "code",
      "source": [
        "nlp('brave').vector"
      ],
      "metadata": {
        "colab": {
          "base_uri": "https://localhost:8080/"
        },
        "id": "kEqD60e2hkNV",
        "outputId": "ff73e24f-af6a-44cb-9a97-4c79bdb51b7a"
      },
      "execution_count": null,
      "outputs": [
        {
          "output_type": "execute_result",
          "data": {
            "text/plain": [
              "array([ 1.2657e+00,  3.0703e+00, -1.7375e+00, -2.0443e+00, -1.1928e+00,\n",
              "        4.7458e+00,  4.1327e-03, -9.9579e-01,  2.7430e+00,  1.5209e+00,\n",
              "       -1.5743e+00, -1.0238e+00, -4.1670e-01,  3.0210e+00,  3.3419e+00,\n",
              "       -1.4513e+00,  1.3891e+00, -2.6773e+00,  1.5304e+00, -1.2868e+00,\n",
              "        2.2221e+00, -1.8497e-01, -3.6390e-01, -2.1370e+00,  3.3337e+00,\n",
              "        4.2660e-01,  2.4932e+00, -1.4288e+00,  2.7081e+00,  3.7910e-01,\n",
              "        3.6824e+00, -3.4750e+00,  2.6784e+00, -3.1675e+00,  7.1397e-01,\n",
              "        3.7714e-01, -2.3996e+00,  3.0475e-01,  9.8345e-01, -1.6483e+00,\n",
              "       -2.1484e+00,  2.0593e+00, -1.2598e+00,  5.4024e-01, -1.1401e+00,\n",
              "       -2.3316e+00, -1.2535e+00, -4.0506e+00, -2.4282e-02,  3.3028e+00,\n",
              "       -7.1632e-01,  4.8101e-02,  1.2775e+00, -2.2964e-02,  1.7544e+00,\n",
              "       -2.6502e+00,  9.9385e-01,  3.8857e-02, -1.0332e+00, -7.2275e-01,\n",
              "       -1.9981e+00, -2.3808e+00, -9.7850e-02, -7.5982e-01, -6.7057e-01,\n",
              "        5.1752e-01,  2.4360e-01, -3.1495e+00,  2.9339e+00, -9.4296e-01,\n",
              "        6.6251e-01,  2.4499e+00,  3.1315e-02,  1.4734e+00, -1.8636e+00,\n",
              "       -7.2413e-01, -4.9318e-01,  2.7718e+00,  1.1353e+00, -1.6181e+00,\n",
              "        1.0753e-01, -1.7407e+00, -7.0819e-01, -2.1883e+00,  1.4590e+00,\n",
              "        2.6207e+00,  1.5006e+00, -6.5071e-01, -1.2046e+00,  4.3139e-01,\n",
              "        1.6799e+00, -1.1989e+00,  3.4300e-03, -5.1471e+00, -4.3013e-01,\n",
              "       -2.8456e+00,  8.5887e-01, -6.9112e-01, -3.5415e+00, -1.7239e+00,\n",
              "        1.5720e+00,  1.4416e+00,  1.8991e+00, -1.3548e+00, -4.3791e+00,\n",
              "       -2.8694e+00, -1.8214e+00, -1.3325e-01,  1.0635e+00,  5.0961e-01,\n",
              "       -2.4572e+00, -1.0423e+00, -2.1225e+00, -5.9131e-01,  1.5448e+00,\n",
              "        3.0062e-01, -7.2216e-01,  3.4901e-01,  7.8028e-01,  1.5921e+00,\n",
              "       -3.1996e+00, -1.5762e-01, -1.9552e+00,  2.4258e+00,  1.4999e+00,\n",
              "        2.6864e+00, -1.6646e-01, -2.9196e+00,  2.8713e+00,  3.1668e+00,\n",
              "        2.1175e+00, -3.0662e+00, -9.2504e-01, -1.4213e+00, -6.9682e-01,\n",
              "        5.9271e+00, -1.4935e+00,  8.3195e-01,  2.4227e-01, -9.8318e-01,\n",
              "       -9.8516e-01, -5.8281e-01,  7.9095e-01,  3.9312e+00, -3.4781e+00,\n",
              "        7.6283e-01, -4.4371e+00,  1.2370e+00, -9.8632e-01,  1.7430e+00,\n",
              "        3.0412e-01, -1.0613e-01, -1.0171e+00, -9.1912e-01, -9.3939e-01,\n",
              "        4.1394e+00,  4.3527e+00,  3.1244e+00, -5.8540e-02, -1.0129e+00,\n",
              "        1.1795e-01, -3.1556e+00, -2.2050e+00, -9.6567e-01, -2.4015e+00,\n",
              "       -6.5535e-01,  1.9342e+00,  4.1939e-01, -2.4190e+00,  9.0822e-03,\n",
              "        2.7983e+00,  1.2368e+00,  3.4277e+00, -1.8361e+00,  1.3205e+00,\n",
              "       -2.4466e+00, -6.0411e-01,  1.3802e+00,  5.8310e-01, -2.0282e+00,\n",
              "       -8.7731e-01,  1.0356e-02,  1.8055e+00, -3.8192e-01,  2.5048e+00,\n",
              "        2.4359e+00, -6.1424e-02,  2.4013e-01, -2.9712e-01,  1.6351e+00,\n",
              "        4.5158e+00,  3.5583e+00, -1.8842e+00,  2.5951e+00, -1.4705e+00,\n",
              "        3.9217e-01, -1.0601e+00,  2.3595e+00, -2.8224e+00,  4.4224e+00,\n",
              "        1.7848e+00, -3.0513e-01, -2.1014e+00,  9.4107e-01, -6.1551e+00,\n",
              "       -2.6918e-01,  2.2497e+00,  1.0999e+00, -7.3644e-01,  1.6342e+00,\n",
              "       -1.3370e+00,  3.6173e+00, -1.9966e+00, -2.4698e+00, -2.5542e+00,\n",
              "        3.2355e+00, -6.0477e-01,  4.2956e+00, -5.8369e-01, -3.9479e-01,\n",
              "        6.1773e-01,  1.2418e+00,  1.6261e+00,  3.6433e+00,  1.3408e-01,\n",
              "       -1.5647e-01, -3.7894e+00, -1.6322e+00, -4.6426e-01, -6.9779e-01,\n",
              "       -3.0937e+00, -2.0869e-01, -2.4956e+00, -1.1007e+00, -1.4291e+00,\n",
              "       -3.3029e+00, -2.5400e+00, -1.2346e+00, -2.7839e+00,  1.0052e+00,\n",
              "        3.5795e+00, -2.3398e-01,  6.4070e-01, -2.3847e+00, -1.1826e+00,\n",
              "       -2.6635e+00, -3.4609e-01, -9.6888e-01,  3.8689e+00,  4.0255e+00,\n",
              "       -1.9424e+00,  1.3584e+00, -2.7454e+00, -2.1404e+00,  1.7877e+00,\n",
              "       -4.9686e+00,  1.3299e+00, -8.0575e-01, -3.1452e+00,  1.4733e+00,\n",
              "        2.8045e+00, -4.5535e+00,  1.3212e+00,  1.3945e+00,  6.9748e-01,\n",
              "        2.5289e+00,  7.1475e-01,  7.1169e-01, -7.0409e-01,  2.0307e+00,\n",
              "        1.4976e+00,  7.2558e-02, -1.6896e+00, -2.0963e+00, -1.1409e+00,\n",
              "       -1.2158e+00, -6.0341e-02, -1.5625e+00, -1.7409e+00,  3.4096e+00,\n",
              "       -6.8042e-02, -4.2241e+00, -1.2762e+00, -1.9332e+00,  8.8637e-01,\n",
              "       -2.9335e+00,  1.5603e+00, -2.9996e+00,  2.2201e+00,  3.0092e+00,\n",
              "        1.7960e+00, -7.6659e-01,  8.6161e-01,  5.0651e-01,  1.7610e+00,\n",
              "       -3.0670e+00, -3.9424e+00,  2.2632e+00, -4.7729e+00,  3.2085e+00],\n",
              "      dtype=float32)"
            ]
          },
          "metadata": {},
          "execution_count": 4
        }
      ]
    },
    {
      "cell_type": "code",
      "source": [
        "len(nlp('brave').vector)"
      ],
      "metadata": {
        "colab": {
          "base_uri": "https://localhost:8080/"
        },
        "id": "SglqKJmIiDRN",
        "outputId": "df6d9fb6-bdd9-4234-b97d-b91324846027"
      },
      "execution_count": null,
      "outputs": [
        {
          "output_type": "execute_result",
          "data": {
            "text/plain": [
              "300"
            ]
          },
          "metadata": {},
          "execution_count": 5
        }
      ]
    },
    {
      "cell_type": "code",
      "source": [
        "nlp('man').similarity(nlp('woman'))"
      ],
      "metadata": {
        "colab": {
          "base_uri": "https://localhost:8080/"
        },
        "id": "w29IKDYbikD5",
        "outputId": "9488e254-b2c2-444b-e2d9-3977081ac15b"
      },
      "execution_count": null,
      "outputs": [
        {
          "output_type": "execute_result",
          "data": {
            "text/plain": [
              "0.8273443215651575"
            ]
          },
          "metadata": {},
          "execution_count": 6
        }
      ]
    },
    {
      "cell_type": "code",
      "source": [
        "nlp.vocab.vectors.shape"
      ],
      "metadata": {
        "colab": {
          "base_uri": "https://localhost:8080/"
        },
        "id": "J1TQPJtYivZZ",
        "outputId": "66a80d2d-f1e0-4cd6-886b-a83eb5dcbc93"
      },
      "execution_count": null,
      "outputs": [
        {
          "output_type": "execute_result",
          "data": {
            "text/plain": [
              "(514157, 300)"
            ]
          },
          "metadata": {},
          "execution_count": 7
        }
      ]
    },
    {
      "cell_type": "code",
      "source": [
        "tokens = nlp('lion cat pet')\n",
        "\n",
        "for token1 in tokens:\n",
        "  for token2 in tokens:\n",
        "    print(token1.text, token2.text, token1.similarity(token2))\n"
      ],
      "metadata": {
        "colab": {
          "base_uri": "https://localhost:8080/"
        },
        "id": "X2cqUeo8jrCN",
        "outputId": "0ca6e8e2-d25d-42be-8fd3-bb70eacd98a4"
      },
      "execution_count": null,
      "outputs": [
        {
          "output_type": "stream",
          "name": "stdout",
          "text": [
            "lion lion 1.0\n",
            "lion cat 0.3854507803916931\n",
            "lion pet 0.20031584799289703\n",
            "cat lion 0.3854507803916931\n",
            "cat cat 1.0\n",
            "cat pet 0.732966423034668\n",
            "pet lion 0.20031584799289703\n",
            "pet cat 0.732966423034668\n",
            "pet pet 1.0\n"
          ]
        }
      ]
    }
  ]
}